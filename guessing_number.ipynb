{
 "cells": [
  {
   "cell_type": "code",
   "execution_count": null,
   "id": "a783f088-7fe6-4b19-8174-a5b7d352f5c1",
   "metadata": {},
   "outputs": [],
   "source": [
    "import random\n",
    "\n",
    "def guess_number():\n",
    "  \"\"\"\n",
    "  This function implements a simple number guessing game.\n",
    "  \"\"\"\n",
    "  secret_number = random.randint(1, 100)\n",
    "  attempts = 0\n",
    "\n",
    "  print(\"I'm thinking of a number between 1 and 100.\")\n",
    "\n",
    "  while True:\n",
    "    try:\n",
    "      guess = int(input(\"Take a guess: \"))\n",
    "      attempts += 1\n",
    "\n",
    "      if guess < secret_number:\n",
    "        print(\"Too low!\")\n",
    "      elif guess > secret_number:\n",
    "        print(\"Too high!\")\n",
    "      else:\n",
    "        print(f\"Congratulations! You guessed the number in {attempts} attempts.\")\n",
    "        break\n",
    "\n",
    "    except ValueError:\n",
    "      print(\"Invalid input. Please enter a number.\")\n",
    "\n",
    "if __name__ == \"__main__\":\n",
    "  guess_number()"
   ]
  }
 ],
 "metadata": {
  "kernelspec": {
   "display_name": "Python 3 (ipykernel)",
   "language": "python",
   "name": "python3"
  },
  "language_info": {
   "codemirror_mode": {
    "name": "ipython",
    "version": 3
   },
   "file_extension": ".py",
   "mimetype": "text/x-python",
   "name": "python",
   "nbconvert_exporter": "python",
   "pygments_lexer": "ipython3",
   "version": "3.13.1"
  }
 },
 "nbformat": 4,
 "nbformat_minor": 5
}
